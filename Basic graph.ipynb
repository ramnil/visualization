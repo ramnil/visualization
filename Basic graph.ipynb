{
 "cells": [
  {
   "cell_type": "code",
   "execution_count": 5,
   "metadata": {},
   "outputs": [],
   "source": [
    "#Making a basic Bokeh line graph\n",
    "\n",
    "#importing Bokeh\n",
    "\n",
    "from bokeh.plotting import figure\n",
    "from bokeh.io import output_file, show\n",
    "\n",
    "#prepare some data(Lists have to be the same lenght)\n",
    "\n",
    "x=[3, 7.5, 10]\n",
    "y=[3, 6, 9]\n",
    "\n",
    "#prepare the ouptut file \n",
    "output_file(\"line.html\")\n",
    "\n",
    "#create figure objects\n",
    "f=figure()\n",
    "\n",
    "#create a plot\n",
    "f.line(x,y)\n",
    "\n",
    "show(f)"
   ]
  },
  {
   "cell_type": "code",
   "execution_count": 2,
   "metadata": {},
   "outputs": [],
   "source": [
    "#Making a basic Bokeh line graph\n",
    "\n",
    "#importing Bokeh\n",
    "\n",
    "from bokeh.plotting import figure\n",
    "from bokeh.io import output_file, show\n",
    "import pandas\n",
    "\n",
    "#prepare some data(Lists have to be the same lenght)\n",
    "df=pandas.read_csv(\"bachelors.csv\")\n",
    "x=df[\"Year\"]\n",
    "y=df[\"Engineering\"]\n",
    "\n",
    "#prepare the ouptut file \n",
    "output_file(\"line.html\")\n",
    "\n",
    "#create figure objects\n",
    "f=figure()\n",
    "\n",
    "#create a plot\n",
    "f.line(x,y)\n",
    "\n",
    "show(f)"
   ]
  },
  {
   "cell_type": "code",
   "execution_count": 19,
   "metadata": {},
   "outputs": [],
   "source": [
    "import pandas\n",
    "from bokeh.plotting import figure, output_file, show\n",
    " \n",
    "p=figure(plot_width=1400,plot_height=1000, tools='pan')\n",
    " \n",
    "p.title.text=\"Cool Data\"\n",
    "p.title.text_color=\"Green\"\n",
    "p.title.text_font=\"times\"\n",
    "p.title.text_font_style=\"bold\"\n",
    "p.xaxis.minor_tick_line_color=None\n",
    "p.yaxis.minor_tick_line_color=None\n",
    "p.xaxis.axis_label=\"Temperature\"\n",
    "p.yaxis.axis_label=\"Pressure\"    \n",
    " \n",
    "df=pandas.read_excel(io=\"verlegenhuken.xlsx\", sheet_name=\"Ark1\")   \n",
    "x=df['Temperature']/10\n",
    "y=df['Pressure']/10\n",
    "    \n",
    "p.circle(x,y)\n",
    "output_file(\"graph.html\")\n",
    "show(p)"
   ]
  },
  {
   "cell_type": "code",
   "execution_count": 21,
   "metadata": {},
   "outputs": [
    {
     "name": "stdout",
     "output_type": "stream",
     "text": [
      "[16, 24, 28, 30, 40]\n"
     ]
    }
   ],
   "source": [
    "kupa=[i*2 for i in [8,12,14,15,20]]\n",
    "print(kupa)"
   ]
  },
  {
   "cell_type": "code",
   "execution_count": null,
   "metadata": {},
   "outputs": [],
   "source": []
  }
 ],
 "metadata": {
  "kernelspec": {
   "display_name": "Python 3",
   "language": "python",
   "name": "python3"
  },
  "language_info": {
   "codemirror_mode": {
    "name": "ipython",
    "version": 3
   },
   "file_extension": ".py",
   "mimetype": "text/x-python",
   "name": "python",
   "nbconvert_exporter": "python",
   "pygments_lexer": "ipython3",
   "version": "3.7.9"
  }
 },
 "nbformat": 4,
 "nbformat_minor": 4
}
